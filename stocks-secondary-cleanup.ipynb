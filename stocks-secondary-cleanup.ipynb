{
 "cells": [
  {
   "cell_type": "code",
   "execution_count": 23,
   "outputs": [],
   "source": [
    "import pandas as pd\n",
    "import plotly.graph_objects as go\n",
    "import plotly.figure_factory as ff\n",
    "from plotly.subplots import make_subplots\n",
    "#import cdata.amazons3 as mod\n",
    "\n",
    "import dash\n",
    "import dash_bootstrap_components as dbc\n",
    "from dash import dcc\n",
    "from dash import html\n",
    "from dash.dependencies import Input, Output\n",
    "from sklearn.metrics import confusion_matrix, classification_report\n",
    "import xgboost as xgb\n",
    "from sklearn.model_selection import train_test_split\n",
    "import sklearn.metrics as metrics"
   ],
   "metadata": {
    "collapsed": false,
    "ExecuteTime": {
     "end_time": "2023-12-18T01:25:58.133020Z",
     "start_time": "2023-12-18T01:25:58.119952Z"
    }
   },
   "id": "a2c4572c7f66346"
  },
  {
   "cell_type": "markdown",
   "source": [],
   "metadata": {
    "collapsed": false
   },
   "id": "7493cf4e635f9bfa"
  },
  {
   "cell_type": "code",
   "execution_count": 24,
   "outputs": [
    {
     "name": "stdout",
     "output_type": "stream",
     "text": [
      "Dash app running on http://127.0.0.1:8050/\n"
     ]
    },
    {
     "ename": "AssertionError",
     "evalue": "The setup method 'errorhandler' can no longer be called on the application. It has already handled its first request, any changes will not be applied consistently.\nMake sure all imports, decorators, functions, etc. needed to set up the application are done before running it.",
     "output_type": "error",
     "traceback": [
      "\u001B[0;31m---------------------------------------------------------------------------\u001B[0m",
      "\u001B[0;31mAssertionError\u001B[0m                            Traceback (most recent call last)",
      "Cell \u001B[0;32mIn[24], line 129\u001B[0m\n\u001B[1;32m    125\u001B[0m     \u001B[38;5;28;01mreturn\u001B[39;00m fig\n\u001B[1;32m    128\u001B[0m \u001B[38;5;28;01mif\u001B[39;00m \u001B[38;5;18m__name__\u001B[39m \u001B[38;5;241m==\u001B[39m \u001B[38;5;124m'\u001B[39m\u001B[38;5;124m__main__\u001B[39m\u001B[38;5;124m'\u001B[39m:\n\u001B[0;32m--> 129\u001B[0m     app\u001B[38;5;241m.\u001B[39mrun_server(debug\u001B[38;5;241m=\u001B[39m\u001B[38;5;28;01mTrue\u001B[39;00m)\n",
      "File \u001B[0;32m~/miniconda3/envs/project/lib/python3.11/site-packages/dash/dash.py:2175\u001B[0m, in \u001B[0;36mDash.run_server\u001B[0;34m(self, *args, **kwargs)\u001B[0m\n\u001B[1;32m   2169\u001B[0m \u001B[38;5;28;01mdef\u001B[39;00m \u001B[38;5;21mrun_server\u001B[39m(\u001B[38;5;28mself\u001B[39m, \u001B[38;5;241m*\u001B[39margs, \u001B[38;5;241m*\u001B[39m\u001B[38;5;241m*\u001B[39mkwargs):\n\u001B[1;32m   2170\u001B[0m \u001B[38;5;250m    \u001B[39m\u001B[38;5;124;03m\"\"\"`run_server` is a deprecated alias of `run` and may be removed in a\u001B[39;00m\n\u001B[1;32m   2171\u001B[0m \u001B[38;5;124;03m    future version. We recommend using `app.run` instead.\u001B[39;00m\n\u001B[1;32m   2172\u001B[0m \n\u001B[1;32m   2173\u001B[0m \u001B[38;5;124;03m    See `app.run` for usage information.\u001B[39;00m\n\u001B[1;32m   2174\u001B[0m \u001B[38;5;124;03m    \"\"\"\u001B[39;00m\n\u001B[0;32m-> 2175\u001B[0m     \u001B[38;5;28mself\u001B[39m\u001B[38;5;241m.\u001B[39mrun(\u001B[38;5;241m*\u001B[39margs, \u001B[38;5;241m*\u001B[39m\u001B[38;5;241m*\u001B[39mkwargs)\n",
      "File \u001B[0;32m~/miniconda3/envs/project/lib/python3.11/site-packages/dash/dash.py:1997\u001B[0m, in \u001B[0;36mDash.run\u001B[0;34m(self, host, port, proxy, debug, jupyter_mode, jupyter_width, jupyter_height, jupyter_server_url, dev_tools_ui, dev_tools_props_check, dev_tools_serve_dev_bundles, dev_tools_hot_reload, dev_tools_hot_reload_interval, dev_tools_hot_reload_watch_interval, dev_tools_hot_reload_max_retry, dev_tools_silence_routes_logging, dev_tools_prune_errors, **flask_run_options)\u001B[0m\n\u001B[1;32m   1994\u001B[0m \u001B[38;5;28;01mif\u001B[39;00m debug \u001B[38;5;129;01mis\u001B[39;00m \u001B[38;5;28;01mNone\u001B[39;00m:\n\u001B[1;32m   1995\u001B[0m     debug \u001B[38;5;241m=\u001B[39m get_combined_config(\u001B[38;5;124m\"\u001B[39m\u001B[38;5;124mdebug\u001B[39m\u001B[38;5;124m\"\u001B[39m, \u001B[38;5;28;01mNone\u001B[39;00m, \u001B[38;5;28;01mFalse\u001B[39;00m)\n\u001B[0;32m-> 1997\u001B[0m debug \u001B[38;5;241m=\u001B[39m \u001B[38;5;28mself\u001B[39m\u001B[38;5;241m.\u001B[39menable_dev_tools(\n\u001B[1;32m   1998\u001B[0m     debug,\n\u001B[1;32m   1999\u001B[0m     dev_tools_ui,\n\u001B[1;32m   2000\u001B[0m     dev_tools_props_check,\n\u001B[1;32m   2001\u001B[0m     dev_tools_serve_dev_bundles,\n\u001B[1;32m   2002\u001B[0m     dev_tools_hot_reload,\n\u001B[1;32m   2003\u001B[0m     dev_tools_hot_reload_interval,\n\u001B[1;32m   2004\u001B[0m     dev_tools_hot_reload_watch_interval,\n\u001B[1;32m   2005\u001B[0m     dev_tools_hot_reload_max_retry,\n\u001B[1;32m   2006\u001B[0m     dev_tools_silence_routes_logging,\n\u001B[1;32m   2007\u001B[0m     dev_tools_prune_errors,\n\u001B[1;32m   2008\u001B[0m )\n\u001B[1;32m   2010\u001B[0m \u001B[38;5;66;03m# Verify port value\u001B[39;00m\n\u001B[1;32m   2011\u001B[0m \u001B[38;5;28;01mtry\u001B[39;00m:\n",
      "File \u001B[0;32m~/miniconda3/envs/project/lib/python3.11/site-packages/dash/dash.py:1767\u001B[0m, in \u001B[0;36mDash.enable_dev_tools\u001B[0;34m(self, debug, dev_tools_ui, dev_tools_props_check, dev_tools_serve_dev_bundles, dev_tools_hot_reload, dev_tools_hot_reload_interval, dev_tools_hot_reload_watch_interval, dev_tools_hot_reload_max_retry, dev_tools_silence_routes_logging, dev_tools_prune_errors)\u001B[0m\n\u001B[1;32m   1765\u001B[0m \u001B[38;5;28;01mif\u001B[39;00m debug:\n\u001B[1;32m   1766\u001B[0m     \u001B[38;5;28;01mif\u001B[39;00m jupyter_dash\u001B[38;5;241m.\u001B[39mactive:\n\u001B[0;32m-> 1767\u001B[0m         jupyter_dash\u001B[38;5;241m.\u001B[39mconfigure_callback_exception_handling(\n\u001B[1;32m   1768\u001B[0m             \u001B[38;5;28mself\u001B[39m, dev_tools\u001B[38;5;241m.\u001B[39mprune_errors\n\u001B[1;32m   1769\u001B[0m         )\n\u001B[1;32m   1770\u001B[0m     \u001B[38;5;28;01melif\u001B[39;00m dev_tools\u001B[38;5;241m.\u001B[39mprune_errors:\n\u001B[1;32m   1771\u001B[0m         secret \u001B[38;5;241m=\u001B[39m gen_salt(\u001B[38;5;241m20\u001B[39m)\n",
      "File \u001B[0;32m~/miniconda3/envs/project/lib/python3.11/site-packages/dash/_jupyter.py:443\u001B[0m, in \u001B[0;36mJupyterDash.configure_callback_exception_handling\u001B[0;34m(self, app, dev_tools_prune_errors)\u001B[0m\n\u001B[1;32m    440\u001B[0m \u001B[38;5;28;01mdef\u001B[39;00m \u001B[38;5;21mconfigure_callback_exception_handling\u001B[39m(\u001B[38;5;28mself\u001B[39m, app, dev_tools_prune_errors):\n\u001B[1;32m    441\u001B[0m \u001B[38;5;250m    \u001B[39m\u001B[38;5;124;03m\"\"\"Install traceback handling for callbacks\"\"\"\u001B[39;00m\n\u001B[0;32m--> 443\u001B[0m     \u001B[38;5;129m@app\u001B[39m\u001B[38;5;241m.\u001B[39mserver\u001B[38;5;241m.\u001B[39merrorhandler(\u001B[38;5;167;01mException\u001B[39;00m)\n\u001B[1;32m    444\u001B[0m     \u001B[38;5;28;01mdef\u001B[39;00m \u001B[38;5;21m_wrap_errors\u001B[39m(error):\n\u001B[1;32m    445\u001B[0m         \u001B[38;5;66;03m# Compute number of stack frames to skip to get down to callback\u001B[39;00m\n\u001B[1;32m    446\u001B[0m         skip \u001B[38;5;241m=\u001B[39m _get_skip(error) \u001B[38;5;28;01mif\u001B[39;00m dev_tools_prune_errors \u001B[38;5;28;01melse\u001B[39;00m \u001B[38;5;241m0\u001B[39m\n\u001B[1;32m    448\u001B[0m         \u001B[38;5;66;03m# Customized formatargvalues function we can place function parameters\u001B[39;00m\n\u001B[1;32m    449\u001B[0m         \u001B[38;5;66;03m# on separate lines\u001B[39;00m\n",
      "File \u001B[0;32m~/miniconda3/envs/project/lib/python3.11/site-packages/flask/scaffold.py:49\u001B[0m, in \u001B[0;36msetupmethod.<locals>.wrapper_func\u001B[0;34m(self, *args, **kwargs)\u001B[0m\n\u001B[1;32m     48\u001B[0m \u001B[38;5;28;01mdef\u001B[39;00m \u001B[38;5;21mwrapper_func\u001B[39m(\u001B[38;5;28mself\u001B[39m, \u001B[38;5;241m*\u001B[39margs: t\u001B[38;5;241m.\u001B[39mAny, \u001B[38;5;241m*\u001B[39m\u001B[38;5;241m*\u001B[39mkwargs: t\u001B[38;5;241m.\u001B[39mAny) \u001B[38;5;241m-\u001B[39m\u001B[38;5;241m>\u001B[39m t\u001B[38;5;241m.\u001B[39mAny:\n\u001B[0;32m---> 49\u001B[0m     \u001B[38;5;28mself\u001B[39m\u001B[38;5;241m.\u001B[39m_check_setup_finished(f_name)\n\u001B[1;32m     50\u001B[0m     \u001B[38;5;28;01mreturn\u001B[39;00m f(\u001B[38;5;28mself\u001B[39m, \u001B[38;5;241m*\u001B[39margs, \u001B[38;5;241m*\u001B[39m\u001B[38;5;241m*\u001B[39mkwargs)\n",
      "File \u001B[0;32m~/miniconda3/envs/project/lib/python3.11/site-packages/flask/app.py:722\u001B[0m, in \u001B[0;36mFlask._check_setup_finished\u001B[0;34m(self, f_name)\u001B[0m\n\u001B[1;32m    720\u001B[0m \u001B[38;5;28;01mdef\u001B[39;00m \u001B[38;5;21m_check_setup_finished\u001B[39m(\u001B[38;5;28mself\u001B[39m, f_name: \u001B[38;5;28mstr\u001B[39m) \u001B[38;5;241m-\u001B[39m\u001B[38;5;241m>\u001B[39m \u001B[38;5;28;01mNone\u001B[39;00m:\n\u001B[1;32m    721\u001B[0m     \u001B[38;5;28;01mif\u001B[39;00m \u001B[38;5;28mself\u001B[39m\u001B[38;5;241m.\u001B[39m_got_first_request:\n\u001B[0;32m--> 722\u001B[0m         \u001B[38;5;28;01mraise\u001B[39;00m \u001B[38;5;167;01mAssertionError\u001B[39;00m(\n\u001B[1;32m    723\u001B[0m             \u001B[38;5;124mf\u001B[39m\u001B[38;5;124m\"\u001B[39m\u001B[38;5;124mThe setup method \u001B[39m\u001B[38;5;124m'\u001B[39m\u001B[38;5;132;01m{\u001B[39;00mf_name\u001B[38;5;132;01m}\u001B[39;00m\u001B[38;5;124m'\u001B[39m\u001B[38;5;124m can no longer be called\u001B[39m\u001B[38;5;124m\"\u001B[39m\n\u001B[1;32m    724\u001B[0m             \u001B[38;5;124m\"\u001B[39m\u001B[38;5;124m on the application. It has already handled its first\u001B[39m\u001B[38;5;124m\"\u001B[39m\n\u001B[1;32m    725\u001B[0m             \u001B[38;5;124m\"\u001B[39m\u001B[38;5;124m request, any changes will not be applied\u001B[39m\u001B[38;5;124m\"\u001B[39m\n\u001B[1;32m    726\u001B[0m             \u001B[38;5;124m\"\u001B[39m\u001B[38;5;124m consistently.\u001B[39m\u001B[38;5;130;01m\\n\u001B[39;00m\u001B[38;5;124m\"\u001B[39m\n\u001B[1;32m    727\u001B[0m             \u001B[38;5;124m\"\u001B[39m\u001B[38;5;124mMake sure all imports, decorators, functions, etc.\u001B[39m\u001B[38;5;124m\"\u001B[39m\n\u001B[1;32m    728\u001B[0m             \u001B[38;5;124m\"\u001B[39m\u001B[38;5;124m needed to set up the application are done before\u001B[39m\u001B[38;5;124m\"\u001B[39m\n\u001B[1;32m    729\u001B[0m             \u001B[38;5;124m\"\u001B[39m\u001B[38;5;124m running it.\u001B[39m\u001B[38;5;124m\"\u001B[39m\n\u001B[1;32m    730\u001B[0m         )\n",
      "\u001B[0;31mAssertionError\u001B[0m: The setup method 'errorhandler' can no longer be called on the application. It has already handled its first request, any changes will not be applied consistently.\nMake sure all imports, decorators, functions, etc. needed to set up the application are done before running it."
     ]
    }
   ],
   "source": [
    "\n",
    "app = dash.Dash(__name__, external_stylesheets=[dbc.themes.MINTY])\n",
    "\n",
    "main_df = pd.read_csv('history_final.csv')\n",
    "\n",
    "main_df['day_of_week'] = pd.to_datetime(main_df['Date']).dt.dayofweek\n",
    "main_df['month'] = pd.to_datetime(main_df['Date']).dt.month\n",
    "main_df['Sector'] = main_df['Sector'].map(\n",
    "    {'Industrials': 0, 'Health Care': 1, 'Information Technology': 2, 'Consumer Discretionary': 3, 'Financials': 4,\n",
    "     'Materials': 5, 'Real Estate': 6, 'Consumer Staples': 7, 'Energy': 8, 'Utilities': 9,\n",
    "     'Telecommunication Services': 10})\n",
    "encoded_df = pd.read_csv('encoded_df.csv')\n",
    "\n",
    "y = main_df['Label']\n",
    "\n",
    "names = main_df['Symbol'].unique()\n",
    "\n",
    "X_train, X_test, y_train, y_test = train_test_split(encoded_df, y, test_size=0.2, random_state=123)\n",
    "xgb_model = xgb.XGBClassifier(objective=\"binary:logistic\", random_state=42)\n",
    "xgb_model.fit(X_train, y_train)\n",
    "\n",
    "app.layout = dbc.Container([\n",
    "    dbc.Row([\n",
    "        dbc.Col(html.H1(\"Next Day Stock Movement Prediction\", className='text-center text-primary'))\n",
    "    ]),\n",
    "    dbc.Row([\n",
    "        dbc.Col([dcc.Dropdown(id='slct-symbol',\n",
    "                              options=names,\n",
    "                              multi=False,\n",
    "                              value='GOOG',\n",
    "                              style={'width': '40%'}\n",
    "                              ),\n",
    "                 html.Div(id='output_container', children=[]),\n",
    "                 html.Br(),\n",
    "                 dcc.Graph(id='stock', figure={}),\n",
    "                 html.Br()])\n",
    "    ]),\n",
    "    dbc.Row([\n",
    "        dbc.Col([dcc.Dropdown(id='slct-ml',\n",
    "                              options=['One', 'Two', 'Three', 'Four'],\n",
    "                              multi=False,\n",
    "                              style={'width': '40%'}),\n",
    "\n",
    "                 #html.Div(id='output_container1', children=[]),\n",
    "                 html.Br(),\n",
    "                 dcc.Graph(id='ml1', figure={}),\n",
    "                 html.Br()\n",
    "                 ])\n",
    "    ])\n",
    "], fluid=False)\n",
    "app.run(jupyter_mode=\"external\")\n",
    "\n",
    "\n",
    "#server = app.server\n",
    "\n",
    "@app.callback(\n",
    "    [Output(component_id='output_container', component_property='children'),\n",
    "     Output(component_id='stock', component_property='figure')],\n",
    "    [Input(component_id='slct-symbol', component_property='value')]\n",
    ")\n",
    "def update_graph(option_slctd):\n",
    "    print(option_slctd)\n",
    "    print(type(option_slctd))\n",
    "\n",
    "    container = \"Stock chosen is: {}\".format(option_slctd)\n",
    "\n",
    "    dff = main_df.copy()\n",
    "    dff = dff[dff['Symbol'] == option_slctd]\n",
    "\n",
    "    dff['diff'] = dff['Close'] - dff['Open']\n",
    "    dff.loc[dff['diff'] >= 0, 'color'] = 'green'\n",
    "    dff.loc[dff['diff'] < 0, 'color'] = 'red'\n",
    "\n",
    "    fig = make_subplots(specs=[[{\"secondary_y\": True}]])\n",
    "    fig.add_trace(go.Candlestick(x=dff['Date'],\n",
    "                                 open=dff['Open'],\n",
    "                                 high=dff['High'],\n",
    "                                 low=dff['Low'],\n",
    "                                 close=dff['Close'],\n",
    "                                 name='Price'))\n",
    "\n",
    "    fig.update_layout(xaxis_rangeslider_visible=True)  # show range slider\n",
    "    fig.update_layout(title={'text': option_slctd, 'x': 0.5})\n",
    "    fig.update_xaxes(rangebreaks=[\n",
    "        dict(bounds=['sat', 'mon']),  # hide weekends\n",
    "    ])\n",
    "    fig.layout.template = 'ggplot2'\n",
    "\n",
    "    return container, fig\n",
    "\n",
    "\n",
    "@app.callback(\n",
    "    [Output(component_id='ml1', component_property='figure')],\n",
    "    [Input(component_id='slct-ml', component_property='value'), ],\n",
    "    prevent_initial_call=True\n",
    ")\n",
    "def update_figure(option_slctd):\n",
    "    print(option_slctd)\n",
    "    print(type(option_slctd))\n",
    "\n",
    "    #container = \"Model chosen is: {}\".format(option_slctd)\n",
    "\n",
    "    test_df = main_df[main_df['Symbol'] == 'GOOG']\n",
    "    testy_df = test_df.drop(\n",
    "        ['Label', 'Date', 'Open', 'Close', 'CloseDiff', 'Symbol', 'VolumeScaledNormalized', 'Low', 'High'], axis=1)\n",
    "\n",
    "    tester = test_df['Label']\n",
    "\n",
    "    pred = xgb_model.predict(testy_df)\n",
    "\n",
    "    conf_matrix = confusion_matrix(tester, pred)\n",
    "\n",
    "    labels = ['Down', 'Up']\n",
    "    fig = ff.create_annotated_heatmap(\n",
    "        z=conf_matrix,\n",
    "        x=labels,\n",
    "        y=labels,\n",
    "        colorscale='Blues',\n",
    "    )\n",
    "    fig.update_layout(\n",
    "        title='Confusion Matrix - Stock Price Movement Prediction',\n",
    "        xaxis=dict(title='Predicted', side='bottom'),\n",
    "        yaxis=dict(title='Actual'),\n",
    "    )\n",
    "\n",
    "    return fig\n",
    "\n",
    "\n",
    "if __name__ == '__main__':\n",
    "    app.run_server(debug=True)"
   ],
   "metadata": {
    "collapsed": false,
    "ExecuteTime": {
     "end_time": "2023-12-18T01:26:43.788393Z",
     "start_time": "2023-12-18T01:25:58.132905Z"
    }
   },
   "id": "b04753556e3c9f61"
  },
  {
   "cell_type": "code",
   "execution_count": null,
   "outputs": [],
   "source": [
    "\n",
    "\n",
    "\n",
    "\n",
    "\n"
   ],
   "metadata": {
    "collapsed": false,
    "ExecuteTime": {
     "start_time": "2023-12-18T01:26:43.787529Z"
    }
   },
   "id": "f816538415906d6d"
  },
  {
   "cell_type": "code",
   "execution_count": null,
   "outputs": [],
   "source": [
    "#create train and test sets\n",
    "from sklearn.model_selection import train_test_split\n",
    "\n",
    "X = main_df[['Close', 'VolumeScaledNormalized', 'CloseDiff', 'WeekDiff']]\n",
    "y = main_df['Actual Movement']\n",
    "X_train, X_test, y_train, y_test = train_test_split(X, y, test_size=0.2, random_state=42)\n",
    "print(X_test)\n",
    "#run random forest classifier\n",
    "from sklearn.ensemble import RandomForestClassifier\n",
    "\n",
    "rf = RandomForestClassifier(n_estimators=100, max_depth=3, random_state=42)\n",
    "rf.fit(X_train, y_train)\n",
    "y_pred = rf.predict(X_test)\n",
    "\n",
    "#show confusion matrix\n",
    "from sklearn.metrics import confusion_matrix\n",
    "\n",
    "confusion_matrix(y_test, y_pred)\n"
   ],
   "metadata": {
    "collapsed": false,
    "ExecuteTime": {
     "end_time": "2023-12-18T01:26:43.789254Z",
     "start_time": "2023-12-18T01:26:43.788686Z"
    }
   },
   "id": "ea4d4187f8ce4770"
  },
  {
   "cell_type": "code",
   "execution_count": null,
   "outputs": [],
   "source": [
    "#write code for a kneighbors classifier\n",
    "from sklearn.neighbors import KNeighborsClassifier\n",
    "\n",
    "knn = KNeighborsClassifier(n_neighbors=5)\n",
    "knn.fit(X_train, y_train)\n",
    "y_pred = knn.predict(X_test)\n",
    "\n",
    "#show confusion matrix\n",
    "from sklearn.metrics import confusion_matrix\n",
    "\n",
    "confusion_matrix(y_test, y_pred)\n",
    "\n",
    "\n"
   ],
   "metadata": {
    "collapsed": false,
    "ExecuteTime": {
     "end_time": "2023-12-18T01:26:43.792297Z",
     "start_time": "2023-12-18T01:26:43.789591Z"
    }
   },
   "id": "b3cd1df1306541ee"
  },
  {
   "cell_type": "code",
   "execution_count": null,
   "outputs": [],
   "source": [],
   "metadata": {
    "collapsed": false,
    "ExecuteTime": {
     "start_time": "2023-12-18T01:26:43.790982Z"
    }
   },
   "id": "5c1321c7594c9e6c"
  },
  {
   "cell_type": "markdown",
   "source": [],
   "metadata": {
    "collapsed": false
   },
   "id": "d19bb0a1f29ab5cc"
  }
 ],
 "metadata": {
  "kernelspec": {
   "display_name": "Python 3 (ipykernel)",
   "language": "python",
   "name": "python3"
  },
  "language_info": {
   "codemirror_mode": {
    "name": "ipython",
    "version": 3
   },
   "file_extension": ".py",
   "mimetype": "text/x-python",
   "name": "python",
   "nbconvert_exporter": "python",
   "pygments_lexer": "ipython3",
   "version": "3.11.5"
  }
 },
 "nbformat": 4,
 "nbformat_minor": 5
}
