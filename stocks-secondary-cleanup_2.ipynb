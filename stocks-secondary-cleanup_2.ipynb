{
 "cells": [
  {
   "cell_type": "code",
   "execution_count": 1,
   "id": "fd7cc801",
   "metadata": {
    "ExecuteTime": {
     "end_time": "2023-12-17T19:33:41.969901Z",
     "start_time": "2023-12-17T19:33:41.967997Z"
    }
   },
   "outputs": [],
   "source": [
    "import numpy as np\n",
    "import pandas as pd\n",
    "import os\n",
    "from pathlib import Path as path\n",
    "\n",
    "companies_csv_path = 'companies.csv'\n",
    "price_history_path = 'history_combined.csv'"
   ]
  },
  {
   "cell_type": "code",
   "execution_count": 2,
   "id": "3a7d6d11",
   "metadata": {
    "ExecuteTime": {
     "end_time": "2023-12-17T19:33:44.171393Z",
     "start_time": "2023-12-17T19:33:41.970204Z"
    }
   },
   "outputs": [
    {
     "data": {
      "text/plain": "        Symbol        Date        Low       High       Open      Close  \\\n0            A  1999-11-18  28.612303  35.765381  32.546494  31.473534   \n1            A  1999-11-19  28.478184  30.758226  30.713518  28.880545   \n2            A  1999-11-22  28.657009  31.473534  29.551144  31.473534   \n3            A  1999-11-23  28.612303  31.205294  30.400572  28.612303   \n4            A  1999-11-24  28.612303  29.998213  28.701717  29.372318   \n...        ...         ...        ...        ...        ...        ...   \n6127889    ZTS  2017-11-06  68.749000  70.377000  68.819000  69.608000   \n6127890    ZTS  2017-11-07  68.045000  70.157000  69.628000  68.350000   \n6127891    ZTS  2017-11-08  67.760000  69.620000  68.000000  69.510000   \n6127892    ZTS  2017-11-09  68.960000  69.500000  69.160000  69.300000   \n6127893    ZTS  2017-11-10  68.580000  69.240000  68.950000  69.130000   \n\n             Volume  \n0        62546380.0  \n1        15234146.0  \n2         6577870.0  \n3         5975611.0  \n4         4843231.0  \n...             ...  \n6127889   3890518.0  \n6127890   5017394.0  \n6127891   3933647.0  \n6127892   2406718.0  \n6127893   1905724.0  \n\n[6127894 rows x 7 columns]",
      "text/html": "<div>\n<style scoped>\n    .dataframe tbody tr th:only-of-type {\n        vertical-align: middle;\n    }\n\n    .dataframe tbody tr th {\n        vertical-align: top;\n    }\n\n    .dataframe thead th {\n        text-align: right;\n    }\n</style>\n<table border=\"1\" class=\"dataframe\">\n  <thead>\n    <tr style=\"text-align: right;\">\n      <th></th>\n      <th>Symbol</th>\n      <th>Date</th>\n      <th>Low</th>\n      <th>High</th>\n      <th>Open</th>\n      <th>Close</th>\n      <th>Volume</th>\n    </tr>\n  </thead>\n  <tbody>\n    <tr>\n      <th>0</th>\n      <td>A</td>\n      <td>1999-11-18</td>\n      <td>28.612303</td>\n      <td>35.765381</td>\n      <td>32.546494</td>\n      <td>31.473534</td>\n      <td>62546380.0</td>\n    </tr>\n    <tr>\n      <th>1</th>\n      <td>A</td>\n      <td>1999-11-19</td>\n      <td>28.478184</td>\n      <td>30.758226</td>\n      <td>30.713518</td>\n      <td>28.880545</td>\n      <td>15234146.0</td>\n    </tr>\n    <tr>\n      <th>2</th>\n      <td>A</td>\n      <td>1999-11-22</td>\n      <td>28.657009</td>\n      <td>31.473534</td>\n      <td>29.551144</td>\n      <td>31.473534</td>\n      <td>6577870.0</td>\n    </tr>\n    <tr>\n      <th>3</th>\n      <td>A</td>\n      <td>1999-11-23</td>\n      <td>28.612303</td>\n      <td>31.205294</td>\n      <td>30.400572</td>\n      <td>28.612303</td>\n      <td>5975611.0</td>\n    </tr>\n    <tr>\n      <th>4</th>\n      <td>A</td>\n      <td>1999-11-24</td>\n      <td>28.612303</td>\n      <td>29.998213</td>\n      <td>28.701717</td>\n      <td>29.372318</td>\n      <td>4843231.0</td>\n    </tr>\n    <tr>\n      <th>...</th>\n      <td>...</td>\n      <td>...</td>\n      <td>...</td>\n      <td>...</td>\n      <td>...</td>\n      <td>...</td>\n      <td>...</td>\n    </tr>\n    <tr>\n      <th>6127889</th>\n      <td>ZTS</td>\n      <td>2017-11-06</td>\n      <td>68.749000</td>\n      <td>70.377000</td>\n      <td>68.819000</td>\n      <td>69.608000</td>\n      <td>3890518.0</td>\n    </tr>\n    <tr>\n      <th>6127890</th>\n      <td>ZTS</td>\n      <td>2017-11-07</td>\n      <td>68.045000</td>\n      <td>70.157000</td>\n      <td>69.628000</td>\n      <td>68.350000</td>\n      <td>5017394.0</td>\n    </tr>\n    <tr>\n      <th>6127891</th>\n      <td>ZTS</td>\n      <td>2017-11-08</td>\n      <td>67.760000</td>\n      <td>69.620000</td>\n      <td>68.000000</td>\n      <td>69.510000</td>\n      <td>3933647.0</td>\n    </tr>\n    <tr>\n      <th>6127892</th>\n      <td>ZTS</td>\n      <td>2017-11-09</td>\n      <td>68.960000</td>\n      <td>69.500000</td>\n      <td>69.160000</td>\n      <td>69.300000</td>\n      <td>2406718.0</td>\n    </tr>\n    <tr>\n      <th>6127893</th>\n      <td>ZTS</td>\n      <td>2017-11-10</td>\n      <td>68.580000</td>\n      <td>69.240000</td>\n      <td>68.950000</td>\n      <td>69.130000</td>\n      <td>1905724.0</td>\n    </tr>\n  </tbody>\n</table>\n<p>6127894 rows × 7 columns</p>\n</div>"
     },
     "execution_count": 2,
     "metadata": {},
     "output_type": "execute_result"
    }
   ],
   "source": [
    "companies = pd.read_csv(companies_csv_path)\n",
    "history = pd.read_csv(price_history_path)\n",
    "history"
   ]
  },
  {
   "cell_type": "code",
   "execution_count": 3,
   "id": "b4bb5019",
   "metadata": {
    "ExecuteTime": {
     "end_time": "2023-12-17T19:33:45.540622Z",
     "start_time": "2023-12-17T19:33:44.171038Z"
    }
   },
   "outputs": [
    {
     "data": {
      "text/plain": "        Symbol        Date         Low        High        Open       Close  \\\n0            A  1999-11-18   28.612303   35.765381   32.546494   31.473534   \n1            A  1999-11-19   28.478184   30.758226   30.713518   28.880545   \n2            A  1999-11-22   28.657009   31.473534   29.551144   31.473534   \n3            A  1999-11-23   28.612303   31.205294   30.400572   28.612303   \n4            A  1999-11-24   28.612303   29.998213   28.701717   29.372318   \n...        ...         ...         ...         ...         ...         ...   \n3915011    ZTS  2022-12-06  152.089996  155.500000  154.220001  153.050003   \n3915012    ZTS  2022-12-07  149.380005  153.789993  152.960007  150.250000   \n3915013    ZTS  2022-12-08  149.199997  154.350006  150.529999  153.679993   \n3915014    ZTS  2022-12-09  152.740005  156.330002  153.940002  153.389999   \n3915015    ZTS  2022-12-12  152.970001  154.470001  154.070007  153.625000   \n\n             Volume  \n0        62546380.0  \n1        15234146.0  \n2         6577870.0  \n3         5975611.0  \n4         4843231.0  \n...             ...  \n3915011   1964800.0  \n3915012   2444100.0  \n3915013   2267500.0  \n3915014   3274900.0  \n3915015    301135.0  \n\n[3915016 rows x 7 columns]",
      "text/html": "<div>\n<style scoped>\n    .dataframe tbody tr th:only-of-type {\n        vertical-align: middle;\n    }\n\n    .dataframe tbody tr th {\n        vertical-align: top;\n    }\n\n    .dataframe thead th {\n        text-align: right;\n    }\n</style>\n<table border=\"1\" class=\"dataframe\">\n  <thead>\n    <tr style=\"text-align: right;\">\n      <th></th>\n      <th>Symbol</th>\n      <th>Date</th>\n      <th>Low</th>\n      <th>High</th>\n      <th>Open</th>\n      <th>Close</th>\n      <th>Volume</th>\n    </tr>\n  </thead>\n  <tbody>\n    <tr>\n      <th>0</th>\n      <td>A</td>\n      <td>1999-11-18</td>\n      <td>28.612303</td>\n      <td>35.765381</td>\n      <td>32.546494</td>\n      <td>31.473534</td>\n      <td>62546380.0</td>\n    </tr>\n    <tr>\n      <th>1</th>\n      <td>A</td>\n      <td>1999-11-19</td>\n      <td>28.478184</td>\n      <td>30.758226</td>\n      <td>30.713518</td>\n      <td>28.880545</td>\n      <td>15234146.0</td>\n    </tr>\n    <tr>\n      <th>2</th>\n      <td>A</td>\n      <td>1999-11-22</td>\n      <td>28.657009</td>\n      <td>31.473534</td>\n      <td>29.551144</td>\n      <td>31.473534</td>\n      <td>6577870.0</td>\n    </tr>\n    <tr>\n      <th>3</th>\n      <td>A</td>\n      <td>1999-11-23</td>\n      <td>28.612303</td>\n      <td>31.205294</td>\n      <td>30.400572</td>\n      <td>28.612303</td>\n      <td>5975611.0</td>\n    </tr>\n    <tr>\n      <th>4</th>\n      <td>A</td>\n      <td>1999-11-24</td>\n      <td>28.612303</td>\n      <td>29.998213</td>\n      <td>28.701717</td>\n      <td>29.372318</td>\n      <td>4843231.0</td>\n    </tr>\n    <tr>\n      <th>...</th>\n      <td>...</td>\n      <td>...</td>\n      <td>...</td>\n      <td>...</td>\n      <td>...</td>\n      <td>...</td>\n      <td>...</td>\n    </tr>\n    <tr>\n      <th>3915011</th>\n      <td>ZTS</td>\n      <td>2022-12-06</td>\n      <td>152.089996</td>\n      <td>155.500000</td>\n      <td>154.220001</td>\n      <td>153.050003</td>\n      <td>1964800.0</td>\n    </tr>\n    <tr>\n      <th>3915012</th>\n      <td>ZTS</td>\n      <td>2022-12-07</td>\n      <td>149.380005</td>\n      <td>153.789993</td>\n      <td>152.960007</td>\n      <td>150.250000</td>\n      <td>2444100.0</td>\n    </tr>\n    <tr>\n      <th>3915013</th>\n      <td>ZTS</td>\n      <td>2022-12-08</td>\n      <td>149.199997</td>\n      <td>154.350006</td>\n      <td>150.529999</td>\n      <td>153.679993</td>\n      <td>2267500.0</td>\n    </tr>\n    <tr>\n      <th>3915014</th>\n      <td>ZTS</td>\n      <td>2022-12-09</td>\n      <td>152.740005</td>\n      <td>156.330002</td>\n      <td>153.940002</td>\n      <td>153.389999</td>\n      <td>3274900.0</td>\n    </tr>\n    <tr>\n      <th>3915015</th>\n      <td>ZTS</td>\n      <td>2022-12-12</td>\n      <td>152.970001</td>\n      <td>154.470001</td>\n      <td>154.070007</td>\n      <td>153.625000</td>\n      <td>301135.0</td>\n    </tr>\n  </tbody>\n</table>\n<p>3915016 rows × 7 columns</p>\n</div>"
     },
     "execution_count": 3,
     "metadata": {},
     "output_type": "execute_result"
    }
   ],
   "source": [
    "# Sort and drop duplicates\n",
    "history = history.sort_values(by=['Symbol', 'Date'])\n",
    "history = history.drop_duplicates(subset=['Symbol', 'Date'])\n",
    "history.reset_index(drop=True, inplace=True)\n",
    "history"
   ]
  },
  {
   "cell_type": "code",
   "execution_count": 4,
   "id": "66c54019",
   "metadata": {
    "scrolled": true,
    "ExecuteTime": {
     "end_time": "2023-12-17T19:33:45.619827Z",
     "start_time": "2023-12-17T19:33:45.540984Z"
    }
   },
   "outputs": [
    {
     "data": {
      "text/plain": "        Symbol        Date         Low        High        Open       Close  \\\n0            A  1999-11-18   28.612303   35.765381   32.546494   31.473534   \n1            A  1999-11-19   28.478184   30.758226   30.713518   28.880545   \n2            A  1999-11-22   28.657009   31.473534   29.551144   31.473534   \n3            A  1999-11-23   28.612303   31.205294   30.400572   28.612303   \n4            A  1999-11-24   28.612303   29.998213   28.701717   29.372318   \n...        ...         ...         ...         ...         ...         ...   \n3915011    ZTS  2022-12-06  152.089996  155.500000  154.220001  153.050003   \n3915012    ZTS  2022-12-07  149.380005  153.789993  152.960007  150.250000   \n3915013    ZTS  2022-12-08  149.199997  154.350006  150.529999  153.679993   \n3915014    ZTS  2022-12-09  152.740005  156.330002  153.940002  153.389999   \n3915015    ZTS  2022-12-12  152.970001  154.470001  154.070007  153.625000   \n\n             Volume  VolumeScaledNormalized  \n0        62546380.0                0.789849  \n1        15234146.0                0.727706  \n2         6577870.0                0.690754  \n3         5975611.0                0.686529  \n4         4843231.0                0.677284  \n...             ...                     ...  \n3915011   1964800.0                0.637589  \n3915012   2444100.0                0.647193  \n3915013   2267500.0                0.643893  \n3915014   3274900.0                0.660068  \n3915015    301135.0                0.555064  \n\n[3915016 rows x 8 columns]",
      "text/html": "<div>\n<style scoped>\n    .dataframe tbody tr th:only-of-type {\n        vertical-align: middle;\n    }\n\n    .dataframe tbody tr th {\n        vertical-align: top;\n    }\n\n    .dataframe thead th {\n        text-align: right;\n    }\n</style>\n<table border=\"1\" class=\"dataframe\">\n  <thead>\n    <tr style=\"text-align: right;\">\n      <th></th>\n      <th>Symbol</th>\n      <th>Date</th>\n      <th>Low</th>\n      <th>High</th>\n      <th>Open</th>\n      <th>Close</th>\n      <th>Volume</th>\n      <th>VolumeScaledNormalized</th>\n    </tr>\n  </thead>\n  <tbody>\n    <tr>\n      <th>0</th>\n      <td>A</td>\n      <td>1999-11-18</td>\n      <td>28.612303</td>\n      <td>35.765381</td>\n      <td>32.546494</td>\n      <td>31.473534</td>\n      <td>62546380.0</td>\n      <td>0.789849</td>\n    </tr>\n    <tr>\n      <th>1</th>\n      <td>A</td>\n      <td>1999-11-19</td>\n      <td>28.478184</td>\n      <td>30.758226</td>\n      <td>30.713518</td>\n      <td>28.880545</td>\n      <td>15234146.0</td>\n      <td>0.727706</td>\n    </tr>\n    <tr>\n      <th>2</th>\n      <td>A</td>\n      <td>1999-11-22</td>\n      <td>28.657009</td>\n      <td>31.473534</td>\n      <td>29.551144</td>\n      <td>31.473534</td>\n      <td>6577870.0</td>\n      <td>0.690754</td>\n    </tr>\n    <tr>\n      <th>3</th>\n      <td>A</td>\n      <td>1999-11-23</td>\n      <td>28.612303</td>\n      <td>31.205294</td>\n      <td>30.400572</td>\n      <td>28.612303</td>\n      <td>5975611.0</td>\n      <td>0.686529</td>\n    </tr>\n    <tr>\n      <th>4</th>\n      <td>A</td>\n      <td>1999-11-24</td>\n      <td>28.612303</td>\n      <td>29.998213</td>\n      <td>28.701717</td>\n      <td>29.372318</td>\n      <td>4843231.0</td>\n      <td>0.677284</td>\n    </tr>\n    <tr>\n      <th>...</th>\n      <td>...</td>\n      <td>...</td>\n      <td>...</td>\n      <td>...</td>\n      <td>...</td>\n      <td>...</td>\n      <td>...</td>\n      <td>...</td>\n    </tr>\n    <tr>\n      <th>3915011</th>\n      <td>ZTS</td>\n      <td>2022-12-06</td>\n      <td>152.089996</td>\n      <td>155.500000</td>\n      <td>154.220001</td>\n      <td>153.050003</td>\n      <td>1964800.0</td>\n      <td>0.637589</td>\n    </tr>\n    <tr>\n      <th>3915012</th>\n      <td>ZTS</td>\n      <td>2022-12-07</td>\n      <td>149.380005</td>\n      <td>153.789993</td>\n      <td>152.960007</td>\n      <td>150.250000</td>\n      <td>2444100.0</td>\n      <td>0.647193</td>\n    </tr>\n    <tr>\n      <th>3915013</th>\n      <td>ZTS</td>\n      <td>2022-12-08</td>\n      <td>149.199997</td>\n      <td>154.350006</td>\n      <td>150.529999</td>\n      <td>153.679993</td>\n      <td>2267500.0</td>\n      <td>0.643893</td>\n    </tr>\n    <tr>\n      <th>3915014</th>\n      <td>ZTS</td>\n      <td>2022-12-09</td>\n      <td>152.740005</td>\n      <td>156.330002</td>\n      <td>153.940002</td>\n      <td>153.389999</td>\n      <td>3274900.0</td>\n      <td>0.660068</td>\n    </tr>\n    <tr>\n      <th>3915015</th>\n      <td>ZTS</td>\n      <td>2022-12-12</td>\n      <td>152.970001</td>\n      <td>154.470001</td>\n      <td>154.070007</td>\n      <td>153.625000</td>\n      <td>301135.0</td>\n      <td>0.555064</td>\n    </tr>\n  </tbody>\n</table>\n<p>3915016 rows × 8 columns</p>\n</div>"
     },
     "execution_count": 4,
     "metadata": {},
     "output_type": "execute_result"
    }
   ],
   "source": [
    "# Rescale the volume column with log scaling\n",
    "# Normalize the volume column\n",
    "history['Volume'] = pd.to_numeric(history['Volume'])\n",
    "history['VolumeScaledNormalized'] = history['Volume']\n",
    "history['VolumeScaledNormalized'] += 1\n",
    "history['VolumeScaledNormalized'] = np.log(history['VolumeScaledNormalized'])\n",
    "history[['VolumeScaledNormalized']] -= history[['VolumeScaledNormalized']].min()\n",
    "history[['VolumeScaledNormalized']] /= history[['VolumeScaledNormalized']].max()\n",
    "history"
   ]
  },
  {
   "cell_type": "code",
   "execution_count": 5,
   "id": "79a553f3",
   "metadata": {
    "ExecuteTime": {
     "end_time": "2023-12-17T19:33:45.920634Z",
     "start_time": "2023-12-17T19:33:45.619755Z"
    }
   },
   "outputs": [
    {
     "data": {
      "text/plain": "        Symbol        Date         Low        High        Open       Close  \\\n0            A  1999-11-18   28.612303   35.765381   32.546494   31.473534   \n1            A  1999-11-19   28.478184   30.758226   30.713518   28.880545   \n2            A  1999-11-22   28.657009   31.473534   29.551144   31.473534   \n3            A  1999-11-23   28.612303   31.205294   30.400572   28.612303   \n4            A  1999-11-24   28.612303   29.998213   28.701717   29.372318   \n...        ...         ...         ...         ...         ...         ...   \n3915011    ZTS  2022-12-06  152.089996  155.500000  154.220001  153.050003   \n3915012    ZTS  2022-12-07  149.380005  153.789993  152.960007  150.250000   \n3915013    ZTS  2022-12-08  149.199997  154.350006  150.529999  153.679993   \n3915014    ZTS  2022-12-09  152.740005  156.330002  153.940002  153.389999   \n3915015    ZTS  2022-12-12  152.970001  154.470001  154.070007  153.625000   \n\n             Volume  VolumeScaledNormalized  CloseDiff  WeekDiff  \n0        62546380.0                0.789849   0.000000  0.000000  \n1        15234146.0                0.727706  -2.592989  0.000000  \n2         6577870.0                0.690754   2.592989  0.000000  \n3         5975611.0                0.686529  -2.861231  0.000000  \n4         4843231.0                0.677284   0.760015  0.000000  \n...             ...                     ...        ...       ...  \n3915011   1964800.0                0.637589  -2.279999  5.229996  \n3915012   2444100.0                0.647193  -2.800003  4.919998  \n3915013   2267500.0                0.643893   3.429993  2.399994  \n3915014   3274900.0                0.660068  -0.289993 -0.460007  \n3915015    301135.0                0.555064   0.235001 -3.250000  \n\n[3915016 rows x 10 columns]",
      "text/html": "<div>\n<style scoped>\n    .dataframe tbody tr th:only-of-type {\n        vertical-align: middle;\n    }\n\n    .dataframe tbody tr th {\n        vertical-align: top;\n    }\n\n    .dataframe thead th {\n        text-align: right;\n    }\n</style>\n<table border=\"1\" class=\"dataframe\">\n  <thead>\n    <tr style=\"text-align: right;\">\n      <th></th>\n      <th>Symbol</th>\n      <th>Date</th>\n      <th>Low</th>\n      <th>High</th>\n      <th>Open</th>\n      <th>Close</th>\n      <th>Volume</th>\n      <th>VolumeScaledNormalized</th>\n      <th>CloseDiff</th>\n      <th>WeekDiff</th>\n    </tr>\n  </thead>\n  <tbody>\n    <tr>\n      <th>0</th>\n      <td>A</td>\n      <td>1999-11-18</td>\n      <td>28.612303</td>\n      <td>35.765381</td>\n      <td>32.546494</td>\n      <td>31.473534</td>\n      <td>62546380.0</td>\n      <td>0.789849</td>\n      <td>0.000000</td>\n      <td>0.000000</td>\n    </tr>\n    <tr>\n      <th>1</th>\n      <td>A</td>\n      <td>1999-11-19</td>\n      <td>28.478184</td>\n      <td>30.758226</td>\n      <td>30.713518</td>\n      <td>28.880545</td>\n      <td>15234146.0</td>\n      <td>0.727706</td>\n      <td>-2.592989</td>\n      <td>0.000000</td>\n    </tr>\n    <tr>\n      <th>2</th>\n      <td>A</td>\n      <td>1999-11-22</td>\n      <td>28.657009</td>\n      <td>31.473534</td>\n      <td>29.551144</td>\n      <td>31.473534</td>\n      <td>6577870.0</td>\n      <td>0.690754</td>\n      <td>2.592989</td>\n      <td>0.000000</td>\n    </tr>\n    <tr>\n      <th>3</th>\n      <td>A</td>\n      <td>1999-11-23</td>\n      <td>28.612303</td>\n      <td>31.205294</td>\n      <td>30.400572</td>\n      <td>28.612303</td>\n      <td>5975611.0</td>\n      <td>0.686529</td>\n      <td>-2.861231</td>\n      <td>0.000000</td>\n    </tr>\n    <tr>\n      <th>4</th>\n      <td>A</td>\n      <td>1999-11-24</td>\n      <td>28.612303</td>\n      <td>29.998213</td>\n      <td>28.701717</td>\n      <td>29.372318</td>\n      <td>4843231.0</td>\n      <td>0.677284</td>\n      <td>0.760015</td>\n      <td>0.000000</td>\n    </tr>\n    <tr>\n      <th>...</th>\n      <td>...</td>\n      <td>...</td>\n      <td>...</td>\n      <td>...</td>\n      <td>...</td>\n      <td>...</td>\n      <td>...</td>\n      <td>...</td>\n      <td>...</td>\n      <td>...</td>\n    </tr>\n    <tr>\n      <th>3915011</th>\n      <td>ZTS</td>\n      <td>2022-12-06</td>\n      <td>152.089996</td>\n      <td>155.500000</td>\n      <td>154.220001</td>\n      <td>153.050003</td>\n      <td>1964800.0</td>\n      <td>0.637589</td>\n      <td>-2.279999</td>\n      <td>5.229996</td>\n    </tr>\n    <tr>\n      <th>3915012</th>\n      <td>ZTS</td>\n      <td>2022-12-07</td>\n      <td>149.380005</td>\n      <td>153.789993</td>\n      <td>152.960007</td>\n      <td>150.250000</td>\n      <td>2444100.0</td>\n      <td>0.647193</td>\n      <td>-2.800003</td>\n      <td>4.919998</td>\n    </tr>\n    <tr>\n      <th>3915013</th>\n      <td>ZTS</td>\n      <td>2022-12-08</td>\n      <td>149.199997</td>\n      <td>154.350006</td>\n      <td>150.529999</td>\n      <td>153.679993</td>\n      <td>2267500.0</td>\n      <td>0.643893</td>\n      <td>3.429993</td>\n      <td>2.399994</td>\n    </tr>\n    <tr>\n      <th>3915014</th>\n      <td>ZTS</td>\n      <td>2022-12-09</td>\n      <td>152.740005</td>\n      <td>156.330002</td>\n      <td>153.940002</td>\n      <td>153.389999</td>\n      <td>3274900.0</td>\n      <td>0.660068</td>\n      <td>-0.289993</td>\n      <td>-0.460007</td>\n    </tr>\n    <tr>\n      <th>3915015</th>\n      <td>ZTS</td>\n      <td>2022-12-12</td>\n      <td>152.970001</td>\n      <td>154.470001</td>\n      <td>154.070007</td>\n      <td>153.625000</td>\n      <td>301135.0</td>\n      <td>0.555064</td>\n      <td>0.235001</td>\n      <td>-3.250000</td>\n    </tr>\n  </tbody>\n</table>\n<p>3915016 rows × 10 columns</p>\n</div>"
     },
     "execution_count": 5,
     "metadata": {},
     "output_type": "execute_result"
    }
   ],
   "source": [
    "history['CloseDiff'] = history.Close - history.Close.shift(1)\n",
    "history['WeekDiff'] = history.Close.shift(1) - history.Close.shift(7)\n",
    "history = history.fillna(0)\n",
    "history"
   ]
  },
  {
   "cell_type": "code",
   "execution_count": 6,
   "id": "8417daed",
   "metadata": {
    "ExecuteTime": {
     "end_time": "2023-12-17T19:33:46.074578Z",
     "start_time": "2023-12-17T19:33:45.919756Z"
    }
   },
   "outputs": [
    {
     "data": {
      "text/plain": "        Symbol        Date         Low        High        Open       Close  \\\n0            A  1999-11-18   28.612303   35.765381   32.546494   31.473534   \n1            A  1999-11-19   28.478184   30.758226   30.713518   28.880545   \n2            A  1999-11-22   28.657009   31.473534   29.551144   31.473534   \n3            A  1999-11-23   28.612303   31.205294   30.400572   28.612303   \n4            A  1999-11-24   28.612303   29.998213   28.701717   29.372318   \n...        ...         ...         ...         ...         ...         ...   \n3915011    ZTS  2022-12-06  152.089996  155.500000  154.220001  153.050003   \n3915012    ZTS  2022-12-07  149.380005  153.789993  152.960007  150.250000   \n3915013    ZTS  2022-12-08  149.199997  154.350006  150.529999  153.679993   \n3915014    ZTS  2022-12-09  152.740005  156.330002  153.940002  153.389999   \n3915015    ZTS  2022-12-12  152.970001  154.470001  154.070007  153.625000   \n\n             Volume  VolumeScaledNormalized  CloseDiff  WeekDiff       Sector  \\\n0        62546380.0                0.789849   0.000000  0.000000  Health Care   \n1        15234146.0                0.727706  -2.592989  0.000000  Health Care   \n2         6577870.0                0.690754   2.592989  0.000000  Health Care   \n3         5975611.0                0.686529  -2.861231  0.000000  Health Care   \n4         4843231.0                0.677284   0.760015  0.000000  Health Care   \n...             ...                     ...        ...       ...          ...   \n3915011   1964800.0                0.637589  -2.279999  5.229996  Health Care   \n3915012   2444100.0                0.647193  -2.800003  4.919998  Health Care   \n3915013   2267500.0                0.643893   3.429993  2.399994  Health Care   \n3915014   3274900.0                0.660068  -0.289993 -0.460007  Health Care   \n3915015    301135.0                0.555064   0.235001 -3.250000  Health Care   \n\n         Label  \n0            1  \n1            0  \n2            1  \n3            0  \n4            1  \n...        ...  \n3915011      0  \n3915012      0  \n3915013      1  \n3915014      0  \n3915015      1  \n\n[3915016 rows x 12 columns]",
      "text/html": "<div>\n<style scoped>\n    .dataframe tbody tr th:only-of-type {\n        vertical-align: middle;\n    }\n\n    .dataframe tbody tr th {\n        vertical-align: top;\n    }\n\n    .dataframe thead th {\n        text-align: right;\n    }\n</style>\n<table border=\"1\" class=\"dataframe\">\n  <thead>\n    <tr style=\"text-align: right;\">\n      <th></th>\n      <th>Symbol</th>\n      <th>Date</th>\n      <th>Low</th>\n      <th>High</th>\n      <th>Open</th>\n      <th>Close</th>\n      <th>Volume</th>\n      <th>VolumeScaledNormalized</th>\n      <th>CloseDiff</th>\n      <th>WeekDiff</th>\n      <th>Sector</th>\n      <th>Label</th>\n    </tr>\n  </thead>\n  <tbody>\n    <tr>\n      <th>0</th>\n      <td>A</td>\n      <td>1999-11-18</td>\n      <td>28.612303</td>\n      <td>35.765381</td>\n      <td>32.546494</td>\n      <td>31.473534</td>\n      <td>62546380.0</td>\n      <td>0.789849</td>\n      <td>0.000000</td>\n      <td>0.000000</td>\n      <td>Health Care</td>\n      <td>1</td>\n    </tr>\n    <tr>\n      <th>1</th>\n      <td>A</td>\n      <td>1999-11-19</td>\n      <td>28.478184</td>\n      <td>30.758226</td>\n      <td>30.713518</td>\n      <td>28.880545</td>\n      <td>15234146.0</td>\n      <td>0.727706</td>\n      <td>-2.592989</td>\n      <td>0.000000</td>\n      <td>Health Care</td>\n      <td>0</td>\n    </tr>\n    <tr>\n      <th>2</th>\n      <td>A</td>\n      <td>1999-11-22</td>\n      <td>28.657009</td>\n      <td>31.473534</td>\n      <td>29.551144</td>\n      <td>31.473534</td>\n      <td>6577870.0</td>\n      <td>0.690754</td>\n      <td>2.592989</td>\n      <td>0.000000</td>\n      <td>Health Care</td>\n      <td>1</td>\n    </tr>\n    <tr>\n      <th>3</th>\n      <td>A</td>\n      <td>1999-11-23</td>\n      <td>28.612303</td>\n      <td>31.205294</td>\n      <td>30.400572</td>\n      <td>28.612303</td>\n      <td>5975611.0</td>\n      <td>0.686529</td>\n      <td>-2.861231</td>\n      <td>0.000000</td>\n      <td>Health Care</td>\n      <td>0</td>\n    </tr>\n    <tr>\n      <th>4</th>\n      <td>A</td>\n      <td>1999-11-24</td>\n      <td>28.612303</td>\n      <td>29.998213</td>\n      <td>28.701717</td>\n      <td>29.372318</td>\n      <td>4843231.0</td>\n      <td>0.677284</td>\n      <td>0.760015</td>\n      <td>0.000000</td>\n      <td>Health Care</td>\n      <td>1</td>\n    </tr>\n    <tr>\n      <th>...</th>\n      <td>...</td>\n      <td>...</td>\n      <td>...</td>\n      <td>...</td>\n      <td>...</td>\n      <td>...</td>\n      <td>...</td>\n      <td>...</td>\n      <td>...</td>\n      <td>...</td>\n      <td>...</td>\n      <td>...</td>\n    </tr>\n    <tr>\n      <th>3915011</th>\n      <td>ZTS</td>\n      <td>2022-12-06</td>\n      <td>152.089996</td>\n      <td>155.500000</td>\n      <td>154.220001</td>\n      <td>153.050003</td>\n      <td>1964800.0</td>\n      <td>0.637589</td>\n      <td>-2.279999</td>\n      <td>5.229996</td>\n      <td>Health Care</td>\n      <td>0</td>\n    </tr>\n    <tr>\n      <th>3915012</th>\n      <td>ZTS</td>\n      <td>2022-12-07</td>\n      <td>149.380005</td>\n      <td>153.789993</td>\n      <td>152.960007</td>\n      <td>150.250000</td>\n      <td>2444100.0</td>\n      <td>0.647193</td>\n      <td>-2.800003</td>\n      <td>4.919998</td>\n      <td>Health Care</td>\n      <td>0</td>\n    </tr>\n    <tr>\n      <th>3915013</th>\n      <td>ZTS</td>\n      <td>2022-12-08</td>\n      <td>149.199997</td>\n      <td>154.350006</td>\n      <td>150.529999</td>\n      <td>153.679993</td>\n      <td>2267500.0</td>\n      <td>0.643893</td>\n      <td>3.429993</td>\n      <td>2.399994</td>\n      <td>Health Care</td>\n      <td>1</td>\n    </tr>\n    <tr>\n      <th>3915014</th>\n      <td>ZTS</td>\n      <td>2022-12-09</td>\n      <td>152.740005</td>\n      <td>156.330002</td>\n      <td>153.940002</td>\n      <td>153.389999</td>\n      <td>3274900.0</td>\n      <td>0.660068</td>\n      <td>-0.289993</td>\n      <td>-0.460007</td>\n      <td>Health Care</td>\n      <td>0</td>\n    </tr>\n    <tr>\n      <th>3915015</th>\n      <td>ZTS</td>\n      <td>2022-12-12</td>\n      <td>152.970001</td>\n      <td>154.470001</td>\n      <td>154.070007</td>\n      <td>153.625000</td>\n      <td>301135.0</td>\n      <td>0.555064</td>\n      <td>0.235001</td>\n      <td>-3.250000</td>\n      <td>Health Care</td>\n      <td>1</td>\n    </tr>\n  </tbody>\n</table>\n<p>3915016 rows × 12 columns</p>\n</div>"
     },
     "execution_count": 6,
     "metadata": {},
     "output_type": "execute_result"
    }
   ],
   "source": [
    "history['Sector'] = history['Symbol'].map(companies.set_index('Symbol')['Sector'])\n",
    "history['Label'] = np.where(history['CloseDiff'] >= 0, 1, 0)\n",
    "history"
   ]
  },
  {
   "cell_type": "code",
   "execution_count": 7,
   "id": "fab6650d",
   "metadata": {
    "ExecuteTime": {
     "end_time": "2023-12-17T19:34:02.245079Z",
     "start_time": "2023-12-17T19:33:46.073869Z"
    }
   },
   "outputs": [],
   "source": [
    "history.to_csv('history_final.csv', index=False)"
   ]
  }
 ],
 "metadata": {
  "kernelspec": {
   "display_name": "Python 3 (ipykernel)",
   "language": "python",
   "name": "python3"
  },
  "language_info": {
   "codemirror_mode": {
    "name": "ipython",
    "version": 3
   },
   "file_extension": ".py",
   "mimetype": "text/x-python",
   "name": "python",
   "nbconvert_exporter": "python",
   "pygments_lexer": "ipython3",
   "version": "3.11.5"
  }
 },
 "nbformat": 4,
 "nbformat_minor": 5
}
